{
 "cells": [
  {
   "cell_type": "markdown",
   "id": "14e4574a-7f24-4ab7-ae39-faf64c5e2c78",
   "metadata": {},
   "source": [
    "# Data Science Tools and Ecosystem"
   ]
  },
  {
   "cell_type": "markdown",
   "id": "66a9d1d2-3c0d-4163-805f-b53f18afa8b6",
   "metadata": {},
   "source": [
    "Introduction:\n",
    "Data science tools and languages are summerised \n",
    "\n",
    "            "
   ]
  },
  {
   "cell_type": "markdown",
   "id": "ea8ff025-4296-43c1-b739-88674c03654e",
   "metadata": {},
   "source": [
    "some of the popular languages that data scientist use are:\n",
    "\n",
    "1. Python\n",
    "2. R\n",
    "3. Julia\n",
    "4. Java\n",
    "5. Javascript\n",
    "6. c/c++\n",
    "7. Sacala\n"
   ]
  },
  {
   "cell_type": "markdown",
   "id": "20ed4ebd-90e3-4f7a-95d0-ad7468c7de4a",
   "metadata": {},
   "source": []
  },
  {
   "cell_type": "markdown",
   "id": "bddefa8b-1561-4b81-b7e5-c0151dd5a218",
   "metadata": {},
   "source": [
    "Some popular data science librarries:\n",
    "1. Numpy\n",
    "2. pandas\n",
    "3. Tenser flow\n",
    "4. scipy\n",
    "5. pytorch\n",
    "6. matplot\n",
    "7. seaborn\n",
    "8. ggplot\n",
    "9. dplyr\n",
    "10. leaflet"
   ]
  },
  {
   "cell_type": "markdown",
   "id": "b44b7429-ad62-44a9-ac9e-fe2f0b9012fb",
   "metadata": {},
   "source": [
    "Data science tool |\n",
    "------------------\n",
    "Jupyter lab/notebook |\n",
    "R studio |\n",
    "Handoop |\n",
    "\n"
   ]
  },
  {
   "cell_type": "markdown",
   "id": "bf4e4c92-db1d-43e4-abc7-4b120b476fbb",
   "metadata": {},
   "source": [
    "### Arithmatic expressions"
   ]
  },
  {
   "cell_type": "code",
   "execution_count": 3,
   "id": "9ebd8804-898f-4357-8273-00947ff37653",
   "metadata": {
    "tags": []
   },
   "outputs": [
    {
     "data": {
      "text/plain": [
       "17"
      ]
     },
     "execution_count": 3,
     "metadata": {},
     "output_type": "execute_result"
    }
   ],
   "source": [
    "(3*5)+2"
   ]
  },
  {
   "cell_type": "markdown",
   "id": "958ae318-a187-4613-81f1-98d9bd9c7209",
   "metadata": {},
   "source": [
    "Minutes to Hour"
   ]
  },
  {
   "cell_type": "code",
   "execution_count": 4,
   "id": "f4a4160f-4cc2-4ef6-94b6-c1823c845414",
   "metadata": {
    "tags": []
   },
   "outputs": [
    {
     "name": "stdout",
     "output_type": "stream",
     "text": [
      "3.3333333333333335\n"
     ]
    }
   ],
   "source": [
    "Minutes = 200\n",
    "Hours = 200/60\n",
    "print(Hours)"
   ]
  },
  {
   "cell_type": "markdown",
   "id": "2bf45d33-b98e-4f1d-89ca-38a44ddf0294",
   "metadata": {},
   "source": [
    "* Objectives\n",
    "+ Python\n",
    "+ R\n",
    "+ Julia \n",
    "+ c"
   ]
  },
  {
   "cell_type": "markdown",
   "id": "0f542a0b-4814-42ef-9c81-aa12b2c01336",
   "metadata": {},
   "source": [
    "## Author\n",
    "Ramsundhar"
   ]
  },
  {
   "cell_type": "code",
   "execution_count": null,
   "id": "959ddd7b-d14a-466f-84a0-9e1a45632226",
   "metadata": {},
   "outputs": [],
   "source": []
  }
 ],
 "metadata": {
  "kernelspec": {
   "display_name": "Python 3 (ipykernel)",
   "language": "python",
   "name": "python3"
  },
  "language_info": {
   "codemirror_mode": {
    "name": "ipython",
    "version": 3
   },
   "file_extension": ".py",
   "mimetype": "text/x-python",
   "name": "python",
   "nbconvert_exporter": "python",
   "pygments_lexer": "ipython3",
   "version": "3.11.5"
  }
 },
 "nbformat": 4,
 "nbformat_minor": 5
}
